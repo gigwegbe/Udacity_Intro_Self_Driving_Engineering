{
 "cells": [
  {
   "cell_type": "markdown",
   "metadata": {
    "collapsed": true
   },
   "source": [
    "# Joy Ride - Part 3: Parallel Parking\n",
    "In this section you will write a function that implements the correct sequence of steps required to parallel park a vehicle.\n",
    "\n",
    "**Note** for this segment the vehicle's maximum speed has been set to just over 4 mph. This should make parking a little easier.\n",
    "\n",
    "![](https://upload.wikimedia.org/wikipedia/commons/2/26/ParallelParkingAnimation.gif)"
   ]
  },
  {
   "cell_type": "code",
   "execution_count": 126,
   "metadata": {},
   "outputs": [
    {
     "data": {
      "text/html": [
       "<button id=\"launcher\">Launch Car Simulator</button>\n",
       "<script src=\"setupLauncher.js\"></script>"
      ],
      "text/plain": [
       "<IPython.core.display.HTML object>"
      ]
     },
     "metadata": {},
     "output_type": "display_data"
    }
   ],
   "source": [
    "%%HTML\n",
    "<button id=\"launcher\">Launch Car Simulator</button>\n",
    "<script src=\"setupLauncher.js\"></script>"
   ]
  },
  {
   "cell_type": "code",
   "execution_count": 168,
   "metadata": {},
   "outputs": [
    {
     "data": {
      "application/javascript": [
       "window.simulatorWindow.postMessage(\"throttle:-0.1\", \"*\");"
      ]
     },
     "metadata": {},
     "output_type": "display_data"
    },
    {
     "data": {
      "application/javascript": [
       "window.simulatorWindow.postMessage(\"steer:1.0\", \"*\");"
      ]
     },
     "metadata": {},
     "output_type": "display_data"
    },
    {
     "data": {
      "application/javascript": [
       "window.simulatorWindow.postMessage(\"throttle:-0.01\", \"*\");"
      ]
     },
     "metadata": {},
     "output_type": "display_data"
    },
    {
     "data": {
      "application/javascript": [
       "window.simulatorWindow.postMessage(\"steer:-1.0\", \"*\");"
      ]
     },
     "metadata": {},
     "output_type": "display_data"
    },
    {
     "data": {
      "application/javascript": [
       "window.simulatorWindow.postMessage(\"throttle:-0.2\", \"*\");"
      ]
     },
     "metadata": {},
     "output_type": "display_data"
    },
    {
     "data": {
      "application/javascript": [
       "window.simulatorWindow.postMessage(\"steer:0.0\", \"*\");"
      ]
     },
     "metadata": {},
     "output_type": "display_data"
    },
    {
     "data": {
      "application/javascript": [
       "window.simulatorWindow.postMessage(\"throttle:0.5\", \"*\");"
      ]
     },
     "metadata": {},
     "output_type": "display_data"
    },
    {
     "data": {
      "application/javascript": [
       "window.simulatorWindow.postMessage(\"throttle:0.0\", \"*\");"
      ]
     },
     "metadata": {},
     "output_type": "display_data"
    }
   ],
   "source": [
    "# CODE CELL\n",
    "#\n",
    "# Write the park function so that it actually parks your vehicle.\n",
    "\n",
    "from Car import Car\n",
    "import time\n",
    "\n",
    "def park(car):\n",
    "    # TODO: Fix this function!\n",
    "    #  currently it just drives back and forth\n",
    "    #  Note that the allowed steering angles are\n",
    "    #  between -25.0 and 25.0 degrees and the \n",
    "    #  allowed values for gas are between -1.0 and 1.0\n",
    "    \n",
    "    # Drive back and steer in \n",
    "    car.gas(-0.1)\n",
    "    car.steer(25)\n",
    "    time.sleep(4)\n",
    "    \n",
    "   #slow down and steer out\n",
    "    car.gas(-0.01)\n",
    "    car.steer(-25)\n",
    "    time.sleep(4.5)\n",
    "    \n",
    "    \n",
    "    # steer\n",
    "    car.gas(-0.2)\n",
    "    car.steer(0)\n",
    "    time.sleep(0.2)\n",
    "    \n",
    "    #move forward\n",
    "    car.gas(0.5)\n",
    "    time.sleep(0.3)\n",
    "    \n",
    "   #Stop the car\n",
    "    car.gas(0.0)\n",
    "    time.sleep(0.1)\n",
    "    \n",
    "\n",
    "car = Car()\n",
    "park(car)\n"
   ]
  },
  {
   "cell_type": "markdown",
   "metadata": {},
   "source": [
    "# Submitting this Project!\n",
    "Your parallel park function is \"correct\" when:\n",
    "\n",
    "1. Your car doesn't hit any other cars.\n",
    "2. Your car stops completely inside of the right lane.\n",
    "\n",
    "Once you've got it working, it's time to submit. Submit by pressing the `SUBMIT` button at the lower right corner of this page."
   ]
  },
  {
   "cell_type": "code",
   "execution_count": null,
   "metadata": {
    "collapsed": true
   },
   "outputs": [],
   "source": []
  },
  {
   "cell_type": "code",
   "execution_count": null,
   "metadata": {
    "collapsed": true
   },
   "outputs": [],
   "source": []
  }
 ],
 "metadata": {
  "kernelspec": {
   "display_name": "Python 3",
   "language": "python",
   "name": "python3"
  },
  "language_info": {
   "codemirror_mode": {
    "name": "ipython",
    "version": 3
   },
   "file_extension": ".py",
   "mimetype": "text/x-python",
   "name": "python",
   "nbconvert_exporter": "python",
   "pygments_lexer": "ipython3",
   "version": "3.6.1"
  }
 },
 "nbformat": 4,
 "nbformat_minor": 2
}
