{
 "cells": [
  {
   "cell_type": "code",
   "execution_count": 7,
   "metadata": {},
   "outputs": [
    {
     "name": "stdout",
     "output_type": "stream",
     "text": [
      "[0.2727272727272727, 0.09090909090909093, 0.09090909090909093, 0.2727272727272727, 0.2727272727272727]\n"
     ]
    },
    {
     "data": {
      "text/plain": [
       "[0.27, 0.09, 0.09, 0.27, 0.27]"
      ]
     },
     "execution_count": 7,
     "metadata": {},
     "output_type": "execute_result"
    }
   ],
   "source": [
    "p = [0.2, 0.2, 0.2, 0.2, 0.2]\n",
    "world = ['green', 'red', 'red', 'green', 'green']\n",
    "#Make 'green' your Z, measurement variable, and rerun your code\n",
    "#if you get the correct result\n",
    "Z = 'green'\n",
    "pHit = 0.6\n",
    "pMiss = 0.2\n",
    "def sense(p, Z):\n",
    "    q = [ ]\n",
    "    for i in range(len(p)):\n",
    "        hit = (Z == world[i])\n",
    "        q.append(p[i] * (hit * pHit + (1 - hit)* pMiss))\n",
    "        s = sum(q)\n",
    "    for i in range (len(p)):\n",
    "        q[i] = q[i]/s\n",
    "    return q\n",
    "print(sense(p, Z))\n",
    "\n",
    "[0.27, 0.09, 0.09, 0.27, 0.27]"
   ]
  },
  {
   "cell_type": "code",
   "execution_count": 11,
   "metadata": {},
   "outputs": [
    {
     "name": "stdout",
     "output_type": "stream",
     "text": [
      "[0.1111111111111111, 0.3333333333333332, 0.3333333333333332, 0.1111111111111111, 0.1111111111111111]\n",
      "[0.20000000000000004, 0.19999999999999996, 0.19999999999999996, 0.20000000000000004, 0.20000000000000004]\n",
      "[0.11111111111111113, 0.33333333333333326, 0.33333333333333326, 0.11111111111111113, 0.11111111111111113]\n",
      "[0.2, 0.19999999999999993, 0.19999999999999993, 0.2, 0.2]\n"
     ]
    }
   ],
   "source": [
    "p = [0.2, 0.2, 0.2, 0.2, 0.2]\n",
    "world = ['green', 'red', 'red', 'green', 'green']\n",
    "#Replace Z with measurements vector and assume the robot is going sense red, then green\n",
    "measurements = ['red', 'green','red','green']\n",
    "pHit = 0.6\n",
    "pMiss = 0.2\n",
    "def sense(p, Z):\n",
    "    q = [ ]\n",
    "    for i in range(len(p)):\n",
    "        hit = (Z == world[i])\n",
    "        q.append(p[i] * (hit * pHit + (1 - hit) * pMiss))\n",
    "    s = sum(q)\n",
    "    for i in range (len(p)):\n",
    "        q[i] = q[i]/s\n",
    "#As often as there are ''measurements'' use the following for loop\n",
    "    return q\n",
    "for k in range(len(measurements)):\n",
    "    #Grab the k element, apply to the current belief, p, and update belief into itself\n",
    "    p = sense(p, measurements [k])\n",
    "    print(p)\n",
    "#run this twice and get back the uniform distribution:"
   ]
  },
  {
   "cell_type": "code",
   "execution_count": 12,
   "metadata": {
    "collapsed": true
   },
   "outputs": [],
   "source": [
    "#Changing the probability for cell 2 from zero to one will allow us to see the effect of the motion."
   ]
  },
  {
   "cell_type": "code",
   "execution_count": 23,
   "metadata": {},
   "outputs": [
    {
     "name": "stdout",
     "output_type": "stream",
     "text": [
      "[0.2727272727272727, 0.09090909090909093, 0.09090909090909093, 0.2727272727272727, 0.2727272727272727]\n",
      "[0.1111111111111111, 0.3333333333333332, 0.3333333333333332, 0.1111111111111111, 0.1111111111111111] 1\n",
      "[0.047619047619047644, 0.4285714285714286, 0.4285714285714286, 0.047619047619047644, 0.047619047619047644] 1\n"
     ]
    }
   ],
   "source": [
    "#p = [0, 1, 0, 0, 0]\n",
    "p = [0.2, 0.2, 0.2, 0.2, 0.2]\n",
    "world = ['green', 'red', 'red', 'green', 'green']\n",
    "measurements = ['red', 'red']\n",
    "pHit = 0.6\n",
    "pMiss = 0.2\n",
    "def sense(p, Z):\n",
    "    q = [ ]\n",
    "    for i in range(len(p)):\n",
    "        hit = (Z == world[i])\n",
    "        q.append(p[i] * (hit * pHit + (1 - hit) * pMiss))\n",
    "    s = sum(q)\n",
    "    for i in range (len(p)):\n",
    "        q[i] = q[i]/s\n",
    "    return q\n",
    "print((sense(p, Z)))\n",
    "     \n",
    "def move(p, U):\n",
    "    q = [ ]\n",
    "    for i in range(len(p)):\n",
    "     #Go through all the elements in '''p'''\n",
    "     #Construct 'q' element by element by accessing corresponding 'p' which is shifted by 'U'\n",
    "         q.append(p[(i - U) % len(p)])     \n",
    "    return q\n",
    "     \n",
    "for k in range(len(measurements)):\n",
    "    p = sense(p, measurements [k])\n",
    "    print(p, 1)"
   ]
  },
  {
   "cell_type": "code",
   "execution_count": null,
   "metadata": {
    "collapsed": true
   },
   "outputs": [],
   "source": []
  }
 ],
 "metadata": {
  "kernelspec": {
   "display_name": "Python 3",
   "language": "python",
   "name": "python3"
  },
  "language_info": {
   "codemirror_mode": {
    "name": "ipython",
    "version": 3
   },
   "file_extension": ".py",
   "mimetype": "text/x-python",
   "name": "python",
   "nbconvert_exporter": "python",
   "pygments_lexer": "ipython3",
   "version": "3.5.2"
  }
 },
 "nbformat": 4,
 "nbformat_minor": 2
}
